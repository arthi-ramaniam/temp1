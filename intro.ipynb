{
  "metadata": {
    "kernelspec": {
      "name": "python",
      "display_name": "Python (Pyodide)",
      "language": "python"
    },
    "language_info": {
      "codemirror_mode": {
        "name": "python",
        "version": 3
      },
      "file_extension": ".py",
      "mimetype": "text/x-python",
      "name": "python",
      "nbconvert_exporter": "python",
      "pygments_lexer": "ipython3",
      "version": "3.8"
    }
  },
  "nbformat_minor": 4,
  "nbformat": 4,
  "cells": [
    {
      "cell_type": "raw",
      "source": "1. Our first hello world program! ",
      "metadata": {}
    },
    {
      "cell_type": "code",
      "source": "print(\"hello\")",
      "metadata": {
        "trusted": true
      },
      "outputs": [
        {
          "name": "stdout",
          "text": "hello\n",
          "output_type": "stream"
        }
      ],
      "execution_count": 15
    },
    {
      "cell_type": "raw",
      "source": "Arithmetic operations",
      "metadata": {}
    },
    {
      "cell_type": "code",
      "source": "10+30",
      "metadata": {
        "trusted": true
      },
      "outputs": [
        {
          "execution_count": 16,
          "output_type": "execute_result",
          "data": {
            "text/plain": "40"
          },
          "metadata": {}
        }
      ],
      "execution_count": 16
    },
    {
      "cell_type": "raw",
      "source": "This is a simple computational program",
      "metadata": {}
    },
    {
      "cell_type": "code",
      "source": "x=10\ny=20\nz=x+y\nprint(\"The sum of\",x,\"and\",y,\"is\",z)",
      "metadata": {
        "trusted": true
      },
      "outputs": [
        {
          "name": "stdout",
          "text": "The sum of 10 and 20 is 30\n",
          "output_type": "stream"
        }
      ],
      "execution_count": 17
    },
    {
      "cell_type": "raw",
      "source": "Conditional Statements",
      "metadata": {}
    },
    {
      "cell_type": "code",
      "source": "x=50\nif (x>=35):\n    print(\"pass\")\nelse: \n    print(\"fail\")",
      "metadata": {
        "trusted": true
      },
      "outputs": [
        {
          "name": "stdout",
          "text": "pass\n",
          "output_type": "stream"
        }
      ],
      "execution_count": 18
    },
    {
      "cell_type": "raw",
      "source": "while loop",
      "metadata": {}
    },
    {
      "cell_type": "code",
      "source": "i=1\nN=12\nwhile(i<=N):\n    print(i)\n    i=i+1",
      "metadata": {
        "trusted": true
      },
      "outputs": [
        {
          "name": "stdout",
          "text": "1\n2\n3\n4\n5\n6\n7\n8\n9\n10\n11\n12\n",
          "output_type": "stream"
        }
      ],
      "execution_count": 21
    },
    {
      "cell_type": "code",
      "source": "N=10\nfor i in range(1,N):\n    print(i) ",
      "metadata": {
        "trusted": true
      },
      "outputs": [
        {
          "name": "stdout",
          "text": "1\n2\n3\n4\n5\n6\n7\n8\n9\n",
          "output_type": "stream"
        }
      ],
      "execution_count": 22
    }
  ]
}